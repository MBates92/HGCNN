{
 "cells": [
  {
   "cell_type": "code",
   "execution_count": 2,
   "metadata": {},
   "outputs": [],
   "source": [
    "import numpy as np\n",
    "import pandas as pd\n",
    "from astropy.io import fits\n",
    "from astropy.wcs import WCS\n",
    "from astropy.wcs.utils import pixel_to_skycoord, skycoord_to_pixel\n",
    "import os\n",
    "from tqdm import tqdm\n",
    "import matplotlib.pyplot as plt\n",
    "\n",
    "from reproject.mosaicking import find_optimal_celestial_wcs\n",
    "from reproject import reproject_interp\n",
    "from reproject.mosaicking import reproject_and_coadd\n",
    "\n",
    "tqdm.pandas()"
   ]
  },
  {
   "cell_type": "code",
   "execution_count": 3,
   "metadata": {},
   "outputs": [],
   "source": [
    "RAW_PATH = 'D:/Workshop/PhD/Data/ViaLactea/PPMAP_Results'"
   ]
  },
  {
   "cell_type": "code",
   "execution_count": 4,
   "metadata": {},
   "outputs": [
    {
     "data": {
      "text/plain": [
       "163"
      ]
     },
     "execution_count": 4,
     "metadata": {},
     "output_type": "execute_result"
    }
   ],
   "source": [
    "no_tiles = len(os.listdir(RAW_PATH))\n",
    "no_tiles"
   ]
  },
  {
   "cell_type": "code",
   "execution_count": 5,
   "metadata": {},
   "outputs": [
    {
     "data": {
      "text/plain": [
       "[array([ True,  True,  True, False, False, False, False, False, False,\n",
       "        False, False, False]),\n",
       " array([False, False, False,  True, False, False, False, False, False,\n",
       "        False, False, False]),\n",
       " array([False, False, False, False,  True, False, False, False, False,\n",
       "        False, False, False]),\n",
       " array([False, False, False, False, False,  True, False, False, False,\n",
       "        False, False, False]),\n",
       " array([False, False, False, False, False, False,  True, False, False,\n",
       "        False, False, False]),\n",
       " array([False, False, False, False, False, False, False,  True,  True,\n",
       "         True,  True,  True])]"
      ]
     },
     "execution_count": 5,
     "metadata": {},
     "output_type": "execute_result"
    }
   ],
   "source": [
    "temps = {\n",
    "    '01':8,\n",
    "    '02':9.45024,\n",
    "    '03':11.1634,\n",
    "    '04':13.1871,\n",
    "    '05':15.5776,\n",
    "    '06':18.4015,\n",
    "    '07':21.7373,\n",
    "    '08':25.6779,\n",
    "    '09':30.3328,\n",
    "    '10':35.8315,\n",
    "    '11':42.3270,\n",
    "    '12':50\n",
    "}\n",
    "\n",
    "temp_filters = [12.1,14.3,16.9,20,23.6]\n",
    "\n",
    "temp_values = np.array([float(v) for v in temps.values()])\n",
    "\n",
    "conditions = [\n",
    "    temp_values<=12.1,\n",
    "    (temp_values>12.1) & (temp_values<=14.3),\n",
    "    (temp_values>14.3) & (temp_values<=16.9),\n",
    "    (temp_values>16.9) & (temp_values<=20.0),\n",
    "    (temp_values>20.0) & (temp_values<=23.6),\n",
    "    temp_values > 23.6\n",
    "]\n",
    "conditions"
   ]
  },
  {
   "cell_type": "code",
   "execution_count": 6,
   "metadata": {},
   "outputs": [
    {
     "name": "stderr",
     "output_type": "stream",
     "text": [
      " 20%|██        | 1/5 [08:12<32:49, 492.50s/it]"
     ]
    },
    {
     "name": "stdout",
     "output_type": "stream",
     "text": [
      "312953528\n"
     ]
    },
    {
     "name": "stderr",
     "output_type": "stream",
     "text": [
      " 40%|████      | 2/5 [16:15<24:21, 487.16s/it]"
     ]
    },
    {
     "name": "stdout",
     "output_type": "stream",
     "text": [
      "312953528\n"
     ]
    },
    {
     "name": "stderr",
     "output_type": "stream",
     "text": [
      " 60%|██████    | 3/5 [24:31<16:22, 491.14s/it]"
     ]
    },
    {
     "name": "stdout",
     "output_type": "stream",
     "text": [
      "312953528\n"
     ]
    },
    {
     "name": "stderr",
     "output_type": "stream",
     "text": [
      " 80%|████████  | 4/5 [32:58<08:17, 497.13s/it]"
     ]
    },
    {
     "name": "stdout",
     "output_type": "stream",
     "text": [
      "312953528\n"
     ]
    },
    {
     "name": "stderr",
     "output_type": "stream",
     "text": [
      "100%|██████████| 5/5 [41:06<00:00, 493.36s/it]\n"
     ]
    },
    {
     "name": "stdout",
     "output_type": "stream",
     "text": [
      "312953528\n"
     ]
    },
    {
     "name": "stderr",
     "output_type": "stream",
     "text": [
      " 20%|██        | 1/5 [07:14<28:56, 434.09s/it]"
     ]
    },
    {
     "name": "stdout",
     "output_type": "stream",
     "text": [
      "50642942\n"
     ]
    },
    {
     "name": "stderr",
     "output_type": "stream",
     "text": [
      " 40%|████      | 2/5 [14:28<21:43, 434.38s/it]"
     ]
    },
    {
     "name": "stdout",
     "output_type": "stream",
     "text": [
      "50642942\n"
     ]
    },
    {
     "name": "stderr",
     "output_type": "stream",
     "text": [
      " 60%|██████    | 3/5 [21:43<14:29, 434.63s/it]"
     ]
    },
    {
     "name": "stdout",
     "output_type": "stream",
     "text": [
      "50642942\n"
     ]
    },
    {
     "name": "stderr",
     "output_type": "stream",
     "text": [
      " 80%|████████  | 4/5 [28:59<07:15, 435.32s/it]"
     ]
    },
    {
     "name": "stdout",
     "output_type": "stream",
     "text": [
      "50642942\n"
     ]
    },
    {
     "name": "stderr",
     "output_type": "stream",
     "text": [
      "100%|██████████| 5/5 [36:14<00:00, 434.92s/it]\n"
     ]
    },
    {
     "name": "stdout",
     "output_type": "stream",
     "text": [
      "50642942\n"
     ]
    },
    {
     "name": "stderr",
     "output_type": "stream",
     "text": [
      " 20%|██        | 1/5 [07:01<28:04, 421.11s/it]"
     ]
    },
    {
     "name": "stdout",
     "output_type": "stream",
     "text": [
      "277220\n"
     ]
    },
    {
     "name": "stderr",
     "output_type": "stream",
     "text": [
      " 40%|████      | 2/5 [14:04<21:06, 422.33s/it]"
     ]
    },
    {
     "name": "stdout",
     "output_type": "stream",
     "text": [
      "277220\n"
     ]
    },
    {
     "name": "stderr",
     "output_type": "stream",
     "text": [
      " 60%|██████    | 3/5 [21:16<14:13, 426.88s/it]"
     ]
    },
    {
     "name": "stdout",
     "output_type": "stream",
     "text": [
      "277220\n"
     ]
    }
   ],
   "source": [
    "plt.rcParams.update({'font.size': 26})\n",
    "\n",
    "f,ax = plt.subplots(3,5, figsize = (40,20), sharex=True, sharey='row')\n",
    "\n",
    "# all surface densities\n",
    "N_bins = 100\n",
    "alpha = 0.3\n",
    "\n",
    "bins = np.logspace(np.log10(0.001),np.log10(1000),N_bins)\n",
    "\n",
    "for i,temp_filter in enumerate(tqdm(temp_filters)):\n",
    "    sub_hist_cdens = []\n",
    "    sub_hist_hot = []\n",
    "    sub_hist_cold = []\n",
    "    for tile_folder in os.listdir(RAW_PATH):\n",
    "\n",
    "        tilename = tile_folder[:4]\n",
    "        cdens_hdu = fits.open(f'{RAW_PATH}/{tile_folder}/{tilename}_cdens.fits')[0]\n",
    "        diffcdens_hdu = fits.open(f'{RAW_PATH}/{tile_folder}/{tilename}_diffcdens.fits')[0]\n",
    "        cdens_hdu.data = cdens_hdu.data/2.72 #convert units from 10^20cm^-2 to M_sun pc^-2\n",
    "        diffcdens_hdu.data = diffcdens_hdu.data/2.72 #convert units from 10^20cm^-2 to M_sun pc^-2\n",
    "        cdens_hdu.header['BUNIT'] = 'M_sun pc^-2'\n",
    "        diffcdens_hdu.header['BUNIT'] = 'M_sun pc^-2'\n",
    "\n",
    "        temp_df = pd.DataFrame()\n",
    "        temp_df['cdens'] = cdens_hdu.data.flatten()\n",
    "        \n",
    "        for entry in temps:\n",
    "            temp_df[temps[entry]] = diffcdens_hdu.data[int(entry)-1].flatten()\n",
    "        temp_df= temp_df.dropna()\n",
    "        \n",
    "        filtered_df = pd.DataFrame()\n",
    "        filtered_df['cdens'] = temp_df['cdens']\n",
    "        temp_df = temp_df.drop(columns = ['cdens'])\n",
    "\n",
    "        columns = temp_df.columns.astype(float)\n",
    "        \n",
    "        filtered_df['cold'] = temp_df.loc[:,temp_values<temp_filter].sum(axis=1)\n",
    "        filtered_df['hot'] = temp_df.loc[:,temp_values>=temp_filter].sum(axis=1)\n",
    "        \n",
    "        sub_hist_cdens_temp, _ = np.histogram(filtered_df['cdens'], bins = bins)\n",
    "        sub_hist_cdens.append(sub_hist_cdens_temp)\n",
    "        \n",
    "        sub_hist_hot_temp, _ = np.histogram(filtered_df['hot'], bins = bins)\n",
    "        sub_hist_hot.append(sub_hist_hot_temp)\n",
    "        \n",
    "        sub_hist_cold_temp, _ = np.histogram(filtered_df['cold'], bins = bins)\n",
    "        sub_hist_cold.append(sub_hist_cold_temp)\n",
    "\n",
    "        \n",
    "    hist_sum_cdens = np.array(sub_hist_cdens).sum(axis=0)\n",
    "    print(hist_sum_cdens.sum())\n",
    "    hist_sum_hot = np.array(sub_hist_hot).sum(axis=0)\n",
    "    hist_sum_cold = np.array(sub_hist_cold).sum(axis=0)\n",
    "    \n",
    "    ax[0,i].step(bins[:-1], hist_sum_cdens, where='post', c= 'k',\n",
    "                 label = 'ALL T'\n",
    "                )\n",
    "    ax[0,i].step(bins[:-1], hist_sum_hot, where='post', c= 'blue',\n",
    "                 label = fr'$T\\geq{temp_filter}K$'\n",
    "                )\n",
    "    ax[0,i].step(bins[:-1], hist_sum_cold, where='post', c= 'red',\n",
    "                 label = fr'$T<{temp_filter}K$'\n",
    "                )\n",
    "    \n",
    "    ax[0,i].set_xscale('log')\n",
    "    ax[0,i].set_yscale('log')\n",
    "    ax[0,i].tick_params(\n",
    "        axis='y',\n",
    "        which='both',\n",
    "        left = True,\n",
    "        right = False,\n",
    "        labelleft = False\n",
    "    )\n",
    "    ax[0,i].legend(fontsize = 'small')\n",
    "    \n",
    "ax[0,-1].set_ylabel(r'$\\Sigma \\geq 0 M_\\odot pc^{-2}$')\n",
    "ax[0,-1].yaxis.set_label_position(\"right\")\n",
    "\n",
    "ax[0,0].tick_params(\n",
    "    axis='y',\n",
    "    which='both',\n",
    "    left = True,\n",
    "    right = False,\n",
    "    labelleft = True\n",
    ")\n",
    "    \n",
    "# Sigms > 23 M_sun pc^-2\n",
    "\n",
    "for i,temp_filter in enumerate(tqdm(temp_filters)):\n",
    "    sub_hist_cdens = []\n",
    "    sub_hist_hot = []\n",
    "    sub_hist_cold = []\n",
    "    for tile_folder in os.listdir(RAW_PATH):\n",
    "\n",
    "        tilename = tile_folder[:4]\n",
    "        cdens_hdu = fits.open(f'{RAW_PATH}/{tile_folder}/{tilename}_cdens.fits')[0]\n",
    "        diffcdens_hdu = fits.open(f'{RAW_PATH}/{tile_folder}/{tilename}_diffcdens.fits')[0]\n",
    "        cdens_hdu.data = cdens_hdu.data/2.72 #convert units from 10^20cm^-2 to M_sun pc^-2\n",
    "        diffcdens_hdu.data = diffcdens_hdu.data/2.72 #convert units from 10^20cm^-2 to M_sun pc^-2\n",
    "        cdens_hdu.header['BUNIT'] = 'M_sun pc^-2'\n",
    "        diffcdens_hdu.header['BUNIT'] = 'M_sun pc^-2'\n",
    "\n",
    "        temp_df = pd.DataFrame()\n",
    "        temp_df['cdens'] = cdens_hdu.data.flatten()\n",
    "\n",
    "        for entry in temps:\n",
    "            temp_df[temps[entry]] = diffcdens_hdu.data[int(entry)-1].flatten()\n",
    "        temp_df= temp_df.dropna()\n",
    "        \n",
    "        filtered_df = pd.DataFrame()\n",
    "        filtered_df['cdens'] = temp_df['cdens']\n",
    "        temp_df = temp_df.drop(columns = ['cdens'])\n",
    "\n",
    "        columns = temp_df.columns.astype(float)\n",
    "        \n",
    "        filtered_df['cold'] = temp_df.loc[:,temp_values<temp_filter].sum(axis=1)\n",
    "        filtered_df['hot'] = temp_df.loc[:,temp_values>=temp_filter].sum(axis=1)\n",
    "        \n",
    "        filtered_df = filtered_df[filtered_df['cdens']>=23]\n",
    "        \n",
    "        sub_hist_cdens_temp, _ = np.histogram(filtered_df['cdens'], bins = bins)\n",
    "        sub_hist_cdens.append(sub_hist_cdens_temp)\n",
    "        \n",
    "        sub_hist_hot_temp, _ = np.histogram(filtered_df['hot'], bins = bins)\n",
    "        sub_hist_hot.append(sub_hist_hot_temp)\n",
    "        \n",
    "        sub_hist_cold_temp, _ = np.histogram(filtered_df['cold'], bins = bins)\n",
    "        sub_hist_cold.append(sub_hist_cold_temp)\n",
    "\n",
    "\n",
    "    hist_sum_cdens = np.array(sub_hist_cdens).sum(axis=0)\n",
    "    print(hist_sum_cdens.sum())\n",
    "    hist_sum_hot = np.array(sub_hist_hot).sum(axis=0)\n",
    "    hist_sum_cold = np.array(sub_hist_cold).sum(axis=0)\n",
    "    \n",
    "    ax[1,i].step(bins[:-1], hist_sum_cdens, where='post', c= 'k',\n",
    "                 label = 'ALL T'\n",
    "                )\n",
    "    ax[1,i].step(bins[:-1], hist_sum_hot, where='post', c= 'blue',\n",
    "                 label = fr'$T\\geq{temp_filter}K$'\n",
    "                )\n",
    "    ax[1,i].step(bins[:-1], hist_sum_cold, where='post', c= 'red',\n",
    "                 label = fr'$T<{temp_filter}K$'\n",
    "                )\n",
    "    \n",
    "    \n",
    "    ax[1,i].set_xscale('log')\n",
    "    ax[1,i].set_yscale('log')\n",
    "    ax[1,i].tick_params(\n",
    "        axis='y',\n",
    "        which='both',\n",
    "        left = True,\n",
    "        right = False,\n",
    "        labelleft = False\n",
    "    )\n",
    "    ax[1,i].legend(fontsize = 'small')\n",
    "    \n",
    "ax[1,-1].set_ylabel(r'$\\Sigma \\geq 23 M_\\odot pc^{-2}$')\n",
    "ax[1,-1].yaxis.set_label_position(\"right\")\n",
    "ax[1,0].tick_params(\n",
    "        axis='y',\n",
    "        which='both',\n",
    "        left = True,\n",
    "        right = False,\n",
    "        labelleft = True\n",
    "    )\n",
    "\n",
    "# Sigma > 180 M_sun pc^-2\n",
    "\n",
    "for i,temp_filter in enumerate(tqdm(temp_filters)):\n",
    "    sub_hist_cdens = []\n",
    "    sub_hist_hot = []\n",
    "    sub_hist_cold = []\n",
    "    for tile_folder in os.listdir(RAW_PATH):\n",
    "\n",
    "        tilename = tile_folder[:4]\n",
    "        cdens_hdu = fits.open(f'{RAW_PATH}/{tile_folder}/{tilename}_cdens.fits')[0]\n",
    "        diffcdens_hdu = fits.open(f'{RAW_PATH}/{tile_folder}/{tilename}_diffcdens.fits')[0]\n",
    "        cdens_hdu.data = cdens_hdu.data/2.72 #convert units from 10^20cm^-2 to M_sun pc^-2\n",
    "        diffcdens_hdu.data = diffcdens_hdu.data/2.72 #convert units from 10^20cm^-2 to M_sun pc^-2\n",
    "        cdens_hdu.header['BUNIT'] = 'M_sun pc^-2'\n",
    "        diffcdens_hdu.header['BUNIT'] = 'M_sun pc^-2'\n",
    "\n",
    "        temp_df = pd.DataFrame()\n",
    "        temp_df['cdens'] = cdens_hdu.data.flatten()\n",
    "\n",
    "        for entry in temps:\n",
    "            temp_df[temps[entry]] = diffcdens_hdu.data[int(entry)-1].flatten()\n",
    "        temp_df= temp_df.dropna()\n",
    "        \n",
    "        filtered_df = pd.DataFrame()\n",
    "        filtered_df['cdens'] = temp_df['cdens']\n",
    "        temp_df = temp_df.drop(columns = ['cdens'])\n",
    "\n",
    "        columns = temp_df.columns.astype(float)\n",
    "        \n",
    "        filtered_df['cold'] = temp_df.loc[:,temp_values<temp_filter].sum(axis=1)\n",
    "        filtered_df['hot'] = temp_df.loc[:,temp_values>=temp_filter].sum(axis=1)\n",
    "        \n",
    "        filtered_df = filtered_df[filtered_df['cdens']>=180]\n",
    "        \n",
    "        sub_hist_cdens_temp, _ = np.histogram(filtered_df['cdens'], bins = bins)\n",
    "        sub_hist_cdens.append(sub_hist_cdens_temp)\n",
    "        \n",
    "        sub_hist_hot_temp, _ = np.histogram(filtered_df['hot'], bins = bins)\n",
    "        sub_hist_hot.append(sub_hist_hot_temp)\n",
    "        \n",
    "        sub_hist_cold_temp, _ = np.histogram(filtered_df['cold'], bins = bins)\n",
    "        sub_hist_cold.append(sub_hist_cold_temp)\n",
    "\n",
    "\n",
    "    hist_sum_cdens = np.array(sub_hist_cdens).sum(axis=0)\n",
    "    print(hist_sum_cdens.sum())\n",
    "    hist_sum_hot = np.array(sub_hist_hot).sum(axis=0)\n",
    "    hist_sum_cold = np.array(sub_hist_cold).sum(axis=0)\n",
    "    \n",
    "    ax[2,i].step(bins[:-1], hist_sum_cdens, where='post', c= 'k',\n",
    "                 label = 'ALL T'\n",
    "                )\n",
    "    ax[2,i].step(bins[:-1], hist_sum_hot, where='post', c= 'blue',\n",
    "                 label = fr'$T\\geq{temp_filter}K$'\n",
    "                )\n",
    "    ax[2,i].step(bins[:-1], hist_sum_cold, where='post', c= 'red',\n",
    "                 label = fr'$T<{temp_filter}K$'\n",
    "                )\n",
    "    \n",
    "    ax[2,i].set_xscale('log')\n",
    "    ax[2,i].set_yscale('log')\n",
    "    ax[2,i].yaxis.set_label_position(\"right\")\n",
    "    ax[2,i].tick_params(\n",
    "        axis='y',\n",
    "        which='both',\n",
    "        left = True,\n",
    "        right = False,\n",
    "        labelleft = False,\n",
    "    )\n",
    "    \n",
    "    ax[2,i].set_xlabel(fr'$(\\Sigma)/(M_\\odot pc^{{-2}})$')\n",
    "    ax[2,i].legend(fontsize = 'small')\n",
    "    ax[2,i].tick_params(axis='x', which='minor', bottom=True)\n",
    "    \n",
    "ax[2,-1].set_ylabel(r'$\\Sigma \\geq 180 M_\\odot pc^{-2}$')\n",
    "ax[2,-1].yaxis.set_label_position(\"right\")\n",
    "\n",
    "ax[2,0].tick_params(\n",
    "    axis='y',\n",
    "    which='both',\n",
    "    left = True,\n",
    "    right = False,\n",
    "    labelleft = True,\n",
    ")\n",
    "\n",
    "\n",
    "plt.tight_layout()\n",
    "plt.savefig('D:\\Workshop\\PhD\\Papers\\HiGal paper\\Images\\Figure9.png')\n",
    "plt.show()"
   ]
  },
  {
   "cell_type": "code",
   "execution_count": null,
   "metadata": {},
   "outputs": [],
   "source": []
  }
 ],
 "metadata": {
  "kernelspec": {
   "display_name": "astronomy",
   "language": "python",
   "name": "python3"
  },
  "language_info": {
   "codemirror_mode": {
    "name": "ipython",
    "version": 3
   },
   "file_extension": ".py",
   "mimetype": "text/x-python",
   "name": "python",
   "nbconvert_exporter": "python",
   "pygments_lexer": "ipython3",
   "version": "3.10.8 | packaged by conda-forge | (main, Nov 24 2022, 14:07:00) [MSC v.1916 64 bit (AMD64)]"
  },
  "vscode": {
   "interpreter": {
    "hash": "1cdee3bc9d9fba82bde12c523be83c819e45d30a8e5311c82c2af073898d1d3d"
   }
  }
 },
 "nbformat": 4,
 "nbformat_minor": 4
}
