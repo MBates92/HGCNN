{
 "cells": [
  {
   "cell_type": "code",
   "execution_count": 1,
   "metadata": {},
   "outputs": [
    {
     "name": "stderr",
     "output_type": "stream",
     "text": [
      "C:\\Users\\Matt\\.conda\\envs\\tf2-gpu\\lib\\site-packages\\tqdm\\std.py:706: FutureWarning: The Panel class is removed from pandas. Accessing it from the top-level namespace will also be removed in the next version\n",
      "  from pandas import Panel\n"
     ]
    }
   ],
   "source": [
    "import numpy as np\n",
    "import matplotlib.pyplot as plt\n",
    "import pandas as pd\n",
    "import pickle\n",
    "import os\n",
    "from tqdm import tqdm\n",
    "from astropy.io import fits\n",
    "from astropy.wcs import WCS\n",
    "from astropy.wcs.utils import pixel_to_skycoord, skycoord_to_pixel\n",
    "from astropy.coordinates import SkyCoord\n",
    "from astropy.nddata import Cutout2D\n",
    "from scipy.ndimage.filters import gaussian_filter\n",
    "tqdm.pandas()\n",
    "import cmocean\n",
    "import matplotlib as mpl"
   ]
  },
  {
   "cell_type": "code",
   "execution_count": 2,
   "metadata": {},
   "outputs": [],
   "source": [
    "from reproject.mosaicking import find_optimal_celestial_wcs\n",
    "from reproject import reproject_interp\n",
    "from reproject.mosaicking import reproject_and_coadd"
   ]
  },
  {
   "cell_type": "code",
   "execution_count": 3,
   "metadata": {},
   "outputs": [],
   "source": [
    "PATH_RAW = 'D:/Workshop/PhD/Data/ViaLactea/PPMAP_Results/'\n",
    "PATH_64x85 = 'D:/Workshop/PhD/Data/ViaLactea/CNN_Results/64px_rejigged_fulltile/'\n",
    "PATH_32x17 = 'D:/Workshop/PhD/Data/ViaLactea/CNN_Results/32px_rejigged_fulltile_64pxwindow/'\n",
    "PATH_32x85 = 'D:/Workshop/PhD/Data/ViaLactea/CNN_Results/32px_rejigged_fulltile/'"
   ]
  },
  {
   "cell_type": "code",
   "execution_count": 4,
   "metadata": {},
   "outputs": [
    {
     "data": {
      "text/plain": [
       "163"
      ]
     },
     "execution_count": 4,
     "metadata": {},
     "output_type": "execute_result"
    }
   ],
   "source": [
    "no_files = len(os.listdir(PATH_32x17+'DataCubes'))\n",
    "no_files"
   ]
  },
  {
   "cell_type": "code",
   "execution_count": null,
   "metadata": {
    "scrolled": false
   },
   "outputs": [
    {
     "name": "stderr",
     "output_type": "stream",
     "text": [
      "100%|████████████████████████████████████████████████████████████████████████████████| 163/163 [14:55<00:00,  5.49s/it]\n",
      "100%|████████████████████████████████████████████████████████████████████████████████| 163/163 [11:41<00:00,  4.31s/it]\n",
      "100%|████████████████████████████████████████████████████████████████████████████████| 163/163 [05:28<00:00,  2.02s/it]\n",
      "100%|████████████████████████████████████████████████████████████████████████████████| 163/163 [05:48<00:00,  2.14s/it]\n",
      "100%|████████████████████████████████████████████████████████████████████████████████| 163/163 [07:54<00:00,  2.91s/it]\n"
     ]
    }
   ],
   "source": [
    "x = 0.03\n",
    "y = 0.93\n",
    "sigma = 2\n",
    "\n",
    "plt.rcParams.update({'font.size': 12})\n",
    "f,ax = plt.subplots(3,3, figsize=(15,15))\n",
    "\n",
    "# H\n",
    "df = pd.DataFrame(columns = ['H_32x85','H_64x85','H_32x17'])\n",
    "\n",
    "for i in tqdm(range(no_files)):\n",
    "    cube_64x85 = pickle.load(open(f'{PATH_64x85}/DataCubes/{os.listdir(PATH_64x85+\"DataCubes\")[i]}','rb'))\n",
    "    cube_32x85 = pickle.load(open(f'{PATH_32x85}/DataCubes/{os.listdir(PATH_32x85+\"DataCubes\")[i]}','rb'))\n",
    "    cube_32x17 = pickle.load(open(f'{PATH_32x17}/DataCubes/{os.listdir(PATH_32x17+\"DataCubes\")[i]}','rb'))\n",
    "\n",
    "    temp_df = pd.DataFrame()\n",
    "    temp_df['H_64x85'] = np.pad(cube_64x85[1],((32,31),(32,31)), 'constant', constant_values = np.nan).flatten()\n",
    "    temp_df['H_32x85'] = np.pad(cube_32x85[1],((16,15),(16,15)), 'constant', constant_values = np.nan).flatten()\n",
    "    temp_df['H_32x17'] = np.pad(cube_32x17[1],((32,31),(32,31)), 'constant', constant_values = np.nan).flatten()\n",
    "    temp_df = temp_df.dropna()\n",
    "    df = df.append(temp_df)\n",
    "\n",
    "ax[0,2].hist(df['H_64x85'], bins=100, facecolor='dimgrey')\n",
    "ax[0,2].set_xlabel(r'$\\mathcal{H}_{64\\times 8.5}$')\n",
    "ax[0,2].text(x,y, '(c)', transform=ax[0,2].transAxes,bbox = dict(facecolor='white'))\n",
    "ax[0,2].set_xlim([0,1.25])\n",
    "\n",
    "ax[0,1].hist(df['H_32x17'], bins=100, facecolor='dimgrey')\n",
    "ax[0,1].set_xlabel(r'$\\mathcal{H}_{32\\times 17}$')\n",
    "ax[0,1].text(x,y, '(b)', transform=ax[0,1].transAxes,bbox = dict(facecolor='white'))\n",
    "ax[0,1].set_xlim([0,1.25])\n",
    "\n",
    "ax[0,0].hist(df['H_32x85'], bins=100, facecolor='dimgrey')\n",
    "ax[0,0].set_xlabel(r'$\\mathcal{H}_{32\\times 8.5}$')\n",
    "ax[0,0].text(x,y, '(a)', transform=ax[0,0].transAxes,bbox = dict(facecolor='white'))\n",
    "ax[0,0].set_xlim([0,1.25])\n",
    "\n",
    "# S\n",
    "\n",
    "df = pd.DataFrame(columns = ['S_32x85','S_64x85','S_32x17'])\n",
    "\n",
    "for i in tqdm(range(no_files)):\n",
    "    cube_64x85 = pickle.load(open(f'{PATH_64x85}/DataCubes/{os.listdir(PATH_64x85+\"DataCubes\")[i]}','rb'))\n",
    "    cube_32x85 = pickle.load(open(f'{PATH_32x85}/DataCubes/{os.listdir(PATH_32x85+\"DataCubes\")[i]}','rb'))\n",
    "    cube_32x17 = pickle.load(open(f'{PATH_32x17}/DataCubes/{os.listdir(PATH_32x17+\"DataCubes\")[i]}','rb'))\n",
    "\n",
    "    temp_df = pd.DataFrame()\n",
    "    temp_df['S_64x85'] = np.pad(cube_64x85[2],((32,31),(32,31)), 'constant', constant_values = np.nan).flatten()\n",
    "    temp_df['S_32x85'] = np.pad(cube_32x85[2],((16,15),(16,15)), 'constant', constant_values = np.nan).flatten()\n",
    "    temp_df['S_32x17'] = np.pad(cube_32x17[2],((32,31),(32,31)), 'constant', constant_values = np.nan).flatten()\n",
    "    temp_df = temp_df.dropna()\n",
    "    df = df.append(temp_df)\n",
    "    \n",
    "ax[1,2].hist(df['S_64x85'], bins=100, facecolor='dimgrey')\n",
    "ax[1,2].set_xlabel(r'$\\mathcal{S}_{64\\times 8.5}$')\n",
    "ax[1,2].text(x,y, '(f)', transform=ax[1,2].transAxes,bbox = dict(facecolor='white'))\n",
    "ax[1,2].set_xlim([0,3.25])\n",
    "\n",
    "ax[1,1].hist(df['S_32x17'], bins=100, facecolor='dimgrey')\n",
    "ax[1,1].set_xlabel(r'$\\mathcal{S}_{32\\times 17}$')\n",
    "ax[1,1].text(x,y, '(e)', transform=ax[1,1].transAxes,bbox = dict(facecolor='white'))\n",
    "ax[1,1].set_xlim([0,3.25])\n",
    "\n",
    "ax[1,0].hist(df['S_32x85'], bins=100, facecolor='dimgrey')\n",
    "ax[1,0].set_xlabel(r'$\\mathcal{S}_{32\\times 8.5}$')\n",
    "ax[1,0].text(x,y, '(d)', transform=ax[1,0].transAxes,bbox = dict(facecolor='white'))\n",
    "ax[1,0].set_xlim([0,3.25])\n",
    "\n",
    "#HvS\n",
    "\n",
    "df = pd.DataFrame(columns = ['H_64x85','S_64x85'])\n",
    "for i in tqdm(range(no_files)):\n",
    "    \n",
    "    cube_64x85 = pickle.load(open(f'{PATH_64x85}/DataCubes/{os.listdir(PATH_64x85+\"DataCubes\")[i]}','rb'))\n",
    "    \n",
    "    temp_df = pd.DataFrame()\n",
    "    temp_df['H_64x85'] = np.pad(cube_64x85[1],((32,31),(32,31)), 'constant', constant_values = np.nan).flatten()\n",
    "    temp_df['S_64x85'] = np.pad(cube_64x85[2],((32,31),(32,31)), 'constant', constant_values = np.nan).flatten()\n",
    "    temp_df = temp_df.dropna()\n",
    "    df = df.append(temp_df)\n",
    "    \n",
    "H_min = df['H_64x85'].min()\n",
    "H_max = df['H_64x85'].max()\n",
    "\n",
    "S_max = df['S_64x85'].max()\n",
    "S_min = df['S_64x85'].min()\n",
    "    \n",
    "S_bins = np.linspace(S_min, S_max, 201)\n",
    "H_bins = np.linspace(H_min, H_max, 201)\n",
    "\n",
    "counts, xbins, ybins, image = ax[2,2].hist2d(df['S_64x85'],df['H_64x85'],bins=[S_bins,H_bins], cmap=cmocean.cm.thermal, norm=mpl.colors.LogNorm())\n",
    "\n",
    "contours = ax[2,2].contour(gaussian_filter(counts.transpose(),sigma), \n",
    "                extent = [xbins.min(),xbins.max(),ybins.min(),ybins.max()],\n",
    "                levels = [1000,10000,70000],\n",
    "                           colors='k'\n",
    "               )\n",
    "\n",
    "ax[2,2].set_xlabel(r'$\\mathcal{S}_{64\\times 8.5}$')\n",
    "ax[2,2].set_ylabel(r'$\\mathcal{H}_{64\\times 8.5}$')\n",
    "ax[2,2].text(x,y, '(i)', transform=ax[2,2].transAxes,bbox = dict(facecolor='white'))\n",
    "ax[2,2].set_xlim([0,3.25])\n",
    "ax[2,2].set_ylim([0,1.25])\n",
    "\n",
    "df = pd.DataFrame(columns = ['H_32x17','S_32x17'])\n",
    "for i in tqdm(range(no_files)):\n",
    "    \n",
    "    cube_32x17 = pickle.load(open(f'{PATH_32x17}/DataCubes/{os.listdir(PATH_32x17+\"DataCubes\")[i]}','rb'))\n",
    "\n",
    "    temp_df = pd.DataFrame()\n",
    "    temp_df['H_32x17'] = np.pad(cube_32x17[1],((32,31),(32,31)), 'constant', constant_values = np.nan).flatten()\n",
    "    temp_df['S_32x17'] = np.pad(cube_32x17[2],((32,31),(32,31)), 'constant', constant_values = np.nan).flatten()\n",
    "    temp_df = temp_df.dropna()\n",
    "    df = df.append(temp_df)\n",
    "    \n",
    "counts, xbins, ybins, image = ax[2,1].hist2d(df['S_32x17'],df['H_32x17'],\n",
    "                                             bins=[S_bins,H_bins], \n",
    "                                             cmap=cmocean.cm.thermal, \n",
    "                                             norm=mpl.colors.LogNorm())\n",
    "contours = ax[2,1].contour(gaussian_filter(counts.transpose(),sigma), \n",
    "                extent = [xbins.min(),xbins.max(),ybins.min(),ybins.max()],\n",
    "                levels = [1000,10000,70000],\n",
    "                           colors='k'\n",
    "               )\n",
    "\n",
    "ax[2,1].set_xlabel(r'$\\mathcal{S}_{32\\times 17}$')\n",
    "ax[2,1].set_ylabel(r'$\\mathcal{H}_{32\\times 17}$')\n",
    "ax[2,1].text(x,y, '(h)', transform=ax[2,1].transAxes,bbox = dict(facecolor='white'))\n",
    "ax[2,1].set_xlim([0,3.25])\n",
    "ax[2,1].set_ylim([0,1.25])\n",
    "\n",
    "df = pd.DataFrame(columns = ['H_32x85','S_32x85'])\n",
    "for i in tqdm(range(no_files)):\n",
    "    \n",
    "    cube_32x85 = pickle.load(open(f'{PATH_32x85}/DataCubes/{os.listdir(PATH_32x85+\"DataCubes\")[i]}','rb'))\n",
    "\n",
    "    temp_df = pd.DataFrame()\n",
    "    temp_df['H_32x85'] = np.pad(cube_32x85[1],((16,15),(16,15)), 'constant', constant_values = np.nan).flatten()\n",
    "    temp_df['S_32x85'] = np.pad(cube_32x85[2],((16,15),(16,15)), 'constant', constant_values = np.nan).flatten()\n",
    "    temp_df = temp_df.dropna()\n",
    "    df = df.append(temp_df)\n",
    "\n",
    "counts, xbins, ybins, image = ax[2,0].hist2d(df['S_32x85'],df['H_32x85'],bins=[S_bins,H_bins], cmap=cmocean.cm.thermal, norm=mpl.colors.LogNorm())\n",
    "\n",
    "contours = ax[2,0].contour(gaussian_filter(counts.transpose(),sigma), \n",
    "                extent = [xbins.min(),xbins.max(),ybins.min(),ybins.max()],\n",
    "                levels = [1000,10000,70000],\n",
    "                           colors='k'\n",
    "               )\n",
    "\n",
    "ax[2,0].set_xlabel(r'$\\mathcal{S}_{32\\times 8.5}$')\n",
    "ax[2,0].set_ylabel(r'$\\mathcal{H}_{32\\times 8.5}$')\n",
    "ax[2,0].text(x,y, '(g)', transform=ax[2,0].transAxes,bbox = dict(facecolor='white'))\n",
    "ax[2,0].set_xlim([0,3.25])\n",
    "ax[2,0].set_ylim([0,1.25])\n",
    "\n",
    "plt.savefig('D:\\Workshop\\PhD\\Papers\\HiGal paper\\Images/DistributionsNew.png',bbox_inches=\"tight\")\n",
    "plt.show()"
   ]
  },
  {
   "cell_type": "code",
   "execution_count": null,
   "metadata": {},
   "outputs": [],
   "source": []
  }
 ],
 "metadata": {
  "kernelspec": {
   "display_name": "Python 3",
   "language": "python",
   "name": "python3"
  },
  "language_info": {
   "codemirror_mode": {
    "name": "ipython",
    "version": 3
   },
   "file_extension": ".py",
   "mimetype": "text/x-python",
   "name": "python",
   "nbconvert_exporter": "python",
   "pygments_lexer": "ipython3",
   "version": "3.7.9"
  }
 },
 "nbformat": 4,
 "nbformat_minor": 4
}
