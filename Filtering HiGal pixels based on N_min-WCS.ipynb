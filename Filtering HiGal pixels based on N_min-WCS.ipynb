{
 "cells": [
  {
   "cell_type": "code",
   "execution_count": 1,
   "metadata": {},
   "outputs": [],
   "source": [
    "import numpy as np\n",
    "import pandas as pd\n",
    "from astropy.io import fits\n",
    "from astropy.wcs import WCS\n",
    "from astropy.wcs.utils import pixel_to_skycoord, skycoord_to_pixel\n",
    "import cv2 as cv\n",
    "import os\n",
    "from tqdm import tqdm\n",
    "import matplotlib.pyplot as plt\n",
    "\n",
    "from reproject.mosaicking import find_optimal_celestial_wcs\n",
    "from reproject import reproject_interp\n",
    "from reproject.mosaicking import reproject_and_coadd\n",
    "\n",
    "tqdm.pandas()"
   ]
  },
  {
   "cell_type": "code",
   "execution_count": 2,
   "metadata": {},
   "outputs": [
    {
     "name": "stderr",
     "output_type": "stream",
     "text": [
      "100%|████████████████████████████████████████████████████████████████████████████████| 163/163 [00:02<00:00, 78.48it/s]\n"
     ]
    },
    {
     "data": {
      "text/plain": [
       "SIMPLE  =                    T / Written by IDL:  Fri Jul 13 16:48:58 2018      \n",
       "BITPIX  =                  -32 / number of bits per data pixel                  \n",
       "NAXIS   =                    2 / number of data axes                            \n",
       "NAXIS1  =                 1440 / length of data axis 1                          \n",
       "NAXIS2  =                 1440 / length of data axis 2                          \n",
       "COMMENT   FITS (Flexible Image Transport System) format is defined in 'Astronomy\n",
       "COMMENT   and Astrophysics', volume 376, page 359; bibcode: 2001A&A...376..359H \n",
       "BUNIT   = '10^20 cm^-2'        / Image units                                    \n",
       "CTYPE1  = 'GLON-TAN'           / name of the coordinate axis                    \n",
       "CTYPE2  = 'GLAT-TAN'           / name of the coordinate axis                    \n",
       "CRPIX1  =        762.508789000 / coordinate system reference pixel              \n",
       "CRPIX2  =        789.038330000 / coordinate system reference pixel              \n",
       "CRVAL1  =     -0.0894740000000 / coordinate value at reference pixel            \n",
       "CRVAL2  =       0.154103000000 / coordinate value at reference pixel            \n",
       "CDELT1  =            -0.001667 / coordinate increment along axis                \n",
       "CDELT2  =             0.001667 / coordinate increment along axis                \n",
       "CROTA2  =             0.000000 / coordinate system rotation angle               \n",
       "EQUINOX =              2000.00 / coordinate system equinox                      \n",
       "DISTANCE=              8.40000 / Distance [kpc]                                 "
      ]
     },
     "execution_count": 2,
     "metadata": {},
     "output_type": "execute_result"
    }
   ],
   "source": [
    "RAW_PATH = 'D:/Workshop/PhD/Data/ViaLactea/PPMAP_Results'\n",
    "hdus = [fits.open(f'{RAW_PATH}/{folder}/{folder[:4]}_cdens.fits')[0] for folder in tqdm(os.listdir(RAW_PATH))]\n",
    "hdus[0].header"
   ]
  },
  {
   "cell_type": "code",
   "execution_count": null,
   "metadata": {},
   "outputs": [
    {
     "name": "stderr",
     "output_type": "stream",
     "text": [
      " 47%|██████████████████████████████████████▎                                          | 77/163 [04:03<04:03,  2.83s/it]"
     ]
    }
   ],
   "source": [
    "wcs_whole, shape_whole = find_optimal_celestial_wcs(hdus,projection='CAR')\n",
    "array_whole, footprint_whole = reproject_and_coadd(hdus,\n",
    "                                       wcs_whole, shape_out=shape_whole,\n",
    "                                       reproject_function=reproject_interp)"
   ]
  },
  {
   "cell_type": "code",
   "execution_count": 3,
   "metadata": {
    "scrolled": false
   },
   "outputs": [
    {
     "name": "stderr",
     "output_type": "stream",
     "text": [
      "100%|████████████████████████████████████████████████████████████████████████████████| 163/163 [32:01<00:00, 11.79s/it]\n"
     ]
    },
    {
     "data": {
      "text/html": [
       "<div>\n",
       "<style scoped>\n",
       "    .dataframe tbody tr th:only-of-type {\n",
       "        vertical-align: middle;\n",
       "    }\n",
       "\n",
       "    .dataframe tbody tr th {\n",
       "        vertical-align: top;\n",
       "    }\n",
       "\n",
       "    .dataframe thead th {\n",
       "        text-align: right;\n",
       "    }\n",
       "</style>\n",
       "<table border=\"1\" class=\"dataframe\">\n",
       "  <thead>\n",
       "    <tr style=\"text-align: right;\">\n",
       "      <th></th>\n",
       "      <th>Column Density</th>\n",
       "      <th>Latitude</th>\n",
       "      <th>Longitude</th>\n",
       "    </tr>\n",
       "  </thead>\n",
       "  <tbody>\n",
       "    <tr>\n",
       "      <th>5908</th>\n",
       "      <td>1967245292663574102016.0</td>\n",
       "      <td>0.933078</td>\n",
       "      <td>-1.152479</td>\n",
       "    </tr>\n",
       "    <tr>\n",
       "      <th>5909</th>\n",
       "      <td>2031307220458984439808.0</td>\n",
       "      <td>0.931411</td>\n",
       "      <td>-1.152479</td>\n",
       "    </tr>\n",
       "    <tr>\n",
       "      <th>5923</th>\n",
       "      <td>2187529945373535109120.0</td>\n",
       "      <td>0.908082</td>\n",
       "      <td>-1.152488</td>\n",
       "    </tr>\n",
       "    <tr>\n",
       "      <th>5924</th>\n",
       "      <td>2269893836975097774080.0</td>\n",
       "      <td>0.906415</td>\n",
       "      <td>-1.152488</td>\n",
       "    </tr>\n",
       "    <tr>\n",
       "      <th>5925</th>\n",
       "      <td>2339838981628418064384.0</td>\n",
       "      <td>0.904749</td>\n",
       "      <td>-1.152489</td>\n",
       "    </tr>\n",
       "    <tr>\n",
       "      <th>...</th>\n",
       "      <td>...</td>\n",
       "      <td>...</td>\n",
       "      <td>...</td>\n",
       "    </tr>\n",
       "    <tr>\n",
       "      <th>2040288</th>\n",
       "      <td>1265999507904052854784.0</td>\n",
       "      <td>357.705677</td>\n",
       "      <td>1.191235</td>\n",
       "    </tr>\n",
       "    <tr>\n",
       "      <th>2040289</th>\n",
       "      <td>1311845302581787099136.0</td>\n",
       "      <td>357.704010</td>\n",
       "      <td>1.191235</td>\n",
       "    </tr>\n",
       "    <tr>\n",
       "      <th>2040290</th>\n",
       "      <td>1393191909790039146496.0</td>\n",
       "      <td>357.702343</td>\n",
       "      <td>1.191234</td>\n",
       "    </tr>\n",
       "    <tr>\n",
       "      <th>2040291</th>\n",
       "      <td>1398467922210693316608.0</td>\n",
       "      <td>357.700677</td>\n",
       "      <td>1.191234</td>\n",
       "    </tr>\n",
       "    <tr>\n",
       "      <th>2040292</th>\n",
       "      <td>1228583621978759888896.0</td>\n",
       "      <td>357.699010</td>\n",
       "      <td>1.191233</td>\n",
       "    </tr>\n",
       "  </tbody>\n",
       "</table>\n",
       "<p>312959123 rows × 3 columns</p>\n",
       "</div>"
      ],
      "text/plain": [
       "                   Column Density    Latitude  Longitude\n",
       "5908     1967245292663574102016.0    0.933078  -1.152479\n",
       "5909     2031307220458984439808.0    0.931411  -1.152479\n",
       "5923     2187529945373535109120.0    0.908082  -1.152488\n",
       "5924     2269893836975097774080.0    0.906415  -1.152488\n",
       "5925     2339838981628418064384.0    0.904749  -1.152489\n",
       "...                           ...         ...        ...\n",
       "2040288  1265999507904052854784.0  357.705677   1.191235\n",
       "2040289  1311845302581787099136.0  357.704010   1.191235\n",
       "2040290  1393191909790039146496.0  357.702343   1.191234\n",
       "2040291  1398467922210693316608.0  357.700677   1.191234\n",
       "2040292  1228583621978759888896.0  357.699010   1.191233\n",
       "\n",
       "[312959123 rows x 3 columns]"
      ]
     },
     "execution_count": 3,
     "metadata": {},
     "output_type": "execute_result"
    }
   ],
   "source": [
    "df = pd.DataFrame(columns = ['Column Density', 'Latitude', 'Longitude'])\n",
    "for folder in tqdm(os.listdir(PATH)):\n",
    "    tilename = folder[:4]\n",
    "    hdu = fits.open(f'{PATH}/{folder}/{tilename}_cdens.fits')[0]\n",
    "    wcs = WCS(hdu.header)\n",
    "    image = hdu.data\n",
    "    shape = np.shape(image)\n",
    "    x = np.arange(0, shape[0])\n",
    "    y = np.arange(0, shape[1])\n",
    "    xx, yy = np.meshgrid(x, y)\n",
    "    coords_grid = pixel_to_skycoord(xx,yy, wcs)\n",
    "    lat = coords_grid.l.degree\n",
    "    lon = coords_grid.b.degree\n",
    "    df_i = pd.DataFrame()\n",
    "    df_i['Column Density'] = image.flatten()*10**20\n",
    "    df_i['Latitude'] = lat.flatten()\n",
    "    df_i['Longitude'] = lon.flatten()\n",
    "    df_i = df_i.dropna()\n",
    "    df_i = df_i[df_i['Column Density']>0]\n",
    "    df = df.append(df_i)\n",
    "df"
   ]
  },
  {
   "cell_type": "code",
   "execution_count": 4,
   "metadata": {},
   "outputs": [
    {
     "name": "stdout",
     "output_type": "stream",
     "text": [
      "<astropy.io.fits.hdu.image.PrimaryHDU object at 0x0000015795F61EF0>\n"
     ]
    }
   ],
   "source": [
    "hdu.header"
   ]
  },
  {
   "cell_type": "code",
   "execution_count": 9,
   "metadata": {},
   "outputs": [],
   "source": [
    "N_mins = np.array([3.54, 5.00, 7.07, 10.00, 14.14, 20.00, 28.28])*10**21"
   ]
  },
  {
   "cell_type": "code",
   "execution_count": 10,
   "metadata": {},
   "outputs": [],
   "source": [
    "hist, bins = np.histogram(df['Column Density'], bins=50)\n",
    "logbins = np.logspace(np.log10(bins[0]),np.log10(bins[-1]),len(bins))"
   ]
  },
  {
   "cell_type": "code",
   "execution_count": 11,
   "metadata": {},
   "outputs": [
    {
     "data": {
      "image/png": "[encoded data removed]",
      "text/plain": [
       "<Figure size 720x720 with 1 Axes>"
      ]
     },
     "metadata": {
      "needs_background": "light"
     },
     "output_type": "display_data"
    }
   ],
   "source": [
    "plt.figure(figsize = (10,10))\n",
    "plt.hist(df['Column Density'], bins=logbins)\n",
    "plt.xscale('log')\n",
    "for N_min in N_mins:\n",
    "    plt.axvline(N_min, c='k')\n",
    "plt.show()"
   ]
  },
  {
   "cell_type": "code",
   "execution_count": 12,
   "metadata": {},
   "outputs": [
    {
     "name": "stderr",
     "output_type": "stream",
     "text": [
      "100%|███████████████████████████████████████████████████████████████████████████████████| 7/7 [29:35<00:00, 253.64s/it]\n"
     ]
    }
   ],
   "source": [
    "PATH = 'D:/Workshop/PhD/Data/ViaLactea/Temperature Analysis/Whole Plane Analysis'\n",
    "for N_min in tqdm(N_mins):\n",
    "    df_i = df[df['Column Density']>N_min]\n",
    "    df_i = df_i[['Latitude','Longitude']]\n",
    "    df_i.to_csv(f'{PATH}/{int(N_min/10**21)}.csv', index = False)"
   ]
  },
  {
   "cell_type": "code",
   "execution_count": 13,
   "metadata": {},
   "outputs": [
    {
     "data": {
      "text/plain": [
       "SIMPLE  =                    T / Written by IDL:  Fri Jul 13 17:08:16 2018      \n",
       "BITPIX  =                  -32 / number of bits per data pixel                  \n",
       "NAXIS   =                    2 / number of data axes                            \n",
       "NAXIS1  =                 1440 / length of data axis 1                          \n",
       "NAXIS2  =                 1440 / length of data axis 2                          \n",
       "COMMENT   FITS (Flexible Image Transport System) format is defined in 'Astronomy\n",
       "COMMENT   and Astrophysics', volume 376, page 359; bibcode: 2001A&A...376..359H \n",
       "BUNIT   = '10^20 cm^-2'        / Image units                                    \n",
       "CTYPE1  = 'GLON-TAN'           / name of the coordinate axis                    \n",
       "CTYPE2  = 'GLAT-TAN'           / name of the coordinate axis                    \n",
       "CRPIX1  =        723.000000000 / coordinate system reference pixel              \n",
       "CRPIX2  =        723.000000000 / coordinate system reference pixel              \n",
       "CRVAL1  =       -1.41753900000 / coordinate value at reference pixel            \n",
       "CRVAL2  =      0.0346340000000 / coordinate value at reference pixel            \n",
       "CDELT1  =            -0.001667 / coordinate increment along axis                \n",
       "CDELT2  =             0.001667 / coordinate increment along axis                \n",
       "CROTA2  =             0.000000 / coordinate system rotation angle               \n",
       "EQUINOX =              2000.00 / coordinate system equinox                      \n",
       "DISTANCE=              2.68400 / Distance [kpc]                                 "
      ]
     },
     "execution_count": 13,
     "metadata": {},
     "output_type": "execute_result"
    }
   ],
   "source": [
    "hdu.header"
   ]
  },
  {
   "cell_type": "code",
   "execution_count": null,
   "metadata": {},
   "outputs": [],
   "source": []
  }
 ],
 "metadata": {
  "kernelspec": {
   "display_name": "Python 3",
   "language": "python",
   "name": "python3"
  },
  "language_info": {
   "codemirror_mode": {
    "name": "ipython",
    "version": 3
   },
   "file_extension": ".py",
   "mimetype": "text/x-python",
   "name": "python",
   "nbconvert_exporter": "python",
   "pygments_lexer": "ipython3",
   "version": "3.7.1"
  }
 },
 "nbformat": 4,
 "nbformat_minor": 4
}
